{
 "cells": [
  {
   "cell_type": "code",
   "execution_count": 142,
   "metadata": {},
   "outputs": [],
   "source": [
    "import numpy as np\n",
    "import pandas as pd\n",
    "from sklearn.preprocessing import StandardScaler, OneHotEncoder ,LabelEncoder\n",
    "from sklearn.feature_selection import SelectKBest, chi2, f_classif\n",
    "from sklearn.impute import SimpleImputer"
   ]
  },
  {
   "cell_type": "code",
   "execution_count": 149,
   "metadata": {},
   "outputs": [
    {
     "data": {
      "text/plain": [
       "(45892, 18)"
      ]
     },
     "execution_count": 149,
     "metadata": {},
     "output_type": "execute_result"
    }
   ],
   "source": [
    "df=pd.read_excel('FS.xls')\n",
    "df.shape"
   ]
  },
  {
   "cell_type": "code",
   "execution_count": 150,
   "metadata": {},
   "outputs": [
    {
     "data": {
      "text/plain": [
       "first_name       object\n",
       "last_name        object\n",
       "potencial        object\n",
       "activity         object\n",
       "speciality       object\n",
       "sector           object\n",
       "locality         object\n",
       "product          object\n",
       "general_note     object\n",
       "cumul_ech       float64\n",
       "cumul_cmd       float64\n",
       "cumul_sale      float64\n",
       "cumul_pres      float64\n",
       "cumul_visit       int64\n",
       "moy_satisf        int64\n",
       "visit_period      int64\n",
       "frequency         int64\n",
       "recency         float64\n",
       "dtype: object"
      ]
     },
     "execution_count": 150,
     "metadata": {},
     "output_type": "execute_result"
    }
   ],
   "source": [
    "df.isnull().sum().sort_values(ascending=False)\n",
    "df.dtypes\n",
    "df=df.dropna(subset=['cumul_cmd']) \n",
    "df.shape\n",
    "df.dtypes"
   ]
  },
  {
   "cell_type": "code",
   "execution_count": 153,
   "metadata": {},
   "outputs": [
    {
     "data": {
      "text/plain": [
       "Index(['first_name', 'last_name', 'potencial', 'activity', 'speciality',\n",
       "       'sector', 'locality', 'product', 'general_note'],\n",
       "      dtype='object')"
      ]
     },
     "execution_count": 153,
     "metadata": {},
     "output_type": "execute_result"
    }
   ],
   "source": [
    "scale=LabelEncoder()\n",
    "numerical_features=df.select_dtypes(exclude='object').columns\n",
    "categorical_features=df.select_dtypes(include='object').columns\n",
    "categorical_features"
   ]
  },
  {
   "cell_type": "code",
   "execution_count": null,
   "metadata": {},
   "outputs": [],
   "source": []
  },
  {
   "cell_type": "code",
   "execution_count": 154,
   "metadata": {},
   "outputs": [],
   "source": [
    "for i in numerical_features:\n",
    "    df[i].fillna(df[i].median(),inplace=True)\n",
    "for i in categorical_features:\n",
    "    df[i].fillna('none',inplace=True) \n",
    "for i in categorical_features :\n",
    "    df[i]=scale.fit_transform(df[i])"
   ]
  },
  {
   "cell_type": "code",
   "execution_count": 155,
   "metadata": {},
   "outputs": [
    {
     "data": {
      "text/html": [
       "<div>\n",
       "<style scoped>\n",
       "    .dataframe tbody tr th:only-of-type {\n",
       "        vertical-align: middle;\n",
       "    }\n",
       "\n",
       "    .dataframe tbody tr th {\n",
       "        vertical-align: top;\n",
       "    }\n",
       "\n",
       "    .dataframe thead th {\n",
       "        text-align: right;\n",
       "    }\n",
       "</style>\n",
       "<table border=\"1\" class=\"dataframe\">\n",
       "  <thead>\n",
       "    <tr style=\"text-align: right;\">\n",
       "      <th></th>\n",
       "      <th>first_name</th>\n",
       "      <th>last_name</th>\n",
       "      <th>potencial</th>\n",
       "      <th>activity</th>\n",
       "      <th>speciality</th>\n",
       "      <th>sector</th>\n",
       "      <th>locality</th>\n",
       "      <th>product</th>\n",
       "      <th>general_note</th>\n",
       "      <th>cumul_ech</th>\n",
       "      <th>cumul_sale</th>\n",
       "      <th>cumul_pres</th>\n",
       "      <th>cumul_visit</th>\n",
       "      <th>moy_satisf</th>\n",
       "      <th>visit_period</th>\n",
       "      <th>frequency</th>\n",
       "      <th>recency</th>\n",
       "    </tr>\n",
       "  </thead>\n",
       "  <tbody>\n",
       "    <tr>\n",
       "      <th>0</th>\n",
       "      <td>1203</td>\n",
       "      <td>2093</td>\n",
       "      <td>3</td>\n",
       "      <td>1</td>\n",
       "      <td>12</td>\n",
       "      <td>36</td>\n",
       "      <td>169</td>\n",
       "      <td>19</td>\n",
       "      <td>535</td>\n",
       "      <td>0.0</td>\n",
       "      <td>0.0</td>\n",
       "      <td>0.0</td>\n",
       "      <td>1</td>\n",
       "      <td>4</td>\n",
       "      <td>0</td>\n",
       "      <td>0</td>\n",
       "      <td>28.0</td>\n",
       "    </tr>\n",
       "    <tr>\n",
       "      <th>1</th>\n",
       "      <td>1203</td>\n",
       "      <td>2093</td>\n",
       "      <td>3</td>\n",
       "      <td>1</td>\n",
       "      <td>12</td>\n",
       "      <td>36</td>\n",
       "      <td>169</td>\n",
       "      <td>0</td>\n",
       "      <td>535</td>\n",
       "      <td>0.0</td>\n",
       "      <td>0.0</td>\n",
       "      <td>0.0</td>\n",
       "      <td>1</td>\n",
       "      <td>4</td>\n",
       "      <td>0</td>\n",
       "      <td>0</td>\n",
       "      <td>28.0</td>\n",
       "    </tr>\n",
       "    <tr>\n",
       "      <th>2</th>\n",
       "      <td>1203</td>\n",
       "      <td>2093</td>\n",
       "      <td>3</td>\n",
       "      <td>1</td>\n",
       "      <td>12</td>\n",
       "      <td>36</td>\n",
       "      <td>169</td>\n",
       "      <td>35</td>\n",
       "      <td>535</td>\n",
       "      <td>0.0</td>\n",
       "      <td>0.0</td>\n",
       "      <td>0.0</td>\n",
       "      <td>1</td>\n",
       "      <td>4</td>\n",
       "      <td>0</td>\n",
       "      <td>0</td>\n",
       "      <td>28.0</td>\n",
       "    </tr>\n",
       "    <tr>\n",
       "      <th>3</th>\n",
       "      <td>1203</td>\n",
       "      <td>2093</td>\n",
       "      <td>3</td>\n",
       "      <td>1</td>\n",
       "      <td>12</td>\n",
       "      <td>36</td>\n",
       "      <td>169</td>\n",
       "      <td>1</td>\n",
       "      <td>535</td>\n",
       "      <td>0.0</td>\n",
       "      <td>0.0</td>\n",
       "      <td>0.0</td>\n",
       "      <td>1</td>\n",
       "      <td>4</td>\n",
       "      <td>0</td>\n",
       "      <td>0</td>\n",
       "      <td>28.0</td>\n",
       "    </tr>\n",
       "    <tr>\n",
       "      <th>4</th>\n",
       "      <td>1203</td>\n",
       "      <td>2093</td>\n",
       "      <td>3</td>\n",
       "      <td>1</td>\n",
       "      <td>12</td>\n",
       "      <td>36</td>\n",
       "      <td>169</td>\n",
       "      <td>18</td>\n",
       "      <td>535</td>\n",
       "      <td>0.0</td>\n",
       "      <td>0.0</td>\n",
       "      <td>0.0</td>\n",
       "      <td>1</td>\n",
       "      <td>4</td>\n",
       "      <td>0</td>\n",
       "      <td>0</td>\n",
       "      <td>28.0</td>\n",
       "    </tr>\n",
       "  </tbody>\n",
       "</table>\n",
       "</div>"
      ],
      "text/plain": [
       "   first_name  last_name  potencial  activity  speciality  sector  locality  \\\n",
       "0        1203       2093          3         1          12      36       169   \n",
       "1        1203       2093          3         1          12      36       169   \n",
       "2        1203       2093          3         1          12      36       169   \n",
       "3        1203       2093          3         1          12      36       169   \n",
       "4        1203       2093          3         1          12      36       169   \n",
       "\n",
       "   product  general_note  cumul_ech  cumul_sale  cumul_pres  cumul_visit  \\\n",
       "0       19           535        0.0         0.0         0.0            1   \n",
       "1        0           535        0.0         0.0         0.0            1   \n",
       "2       35           535        0.0         0.0         0.0            1   \n",
       "3        1           535        0.0         0.0         0.0            1   \n",
       "4       18           535        0.0         0.0         0.0            1   \n",
       "\n",
       "   moy_satisf  visit_period  frequency  recency  \n",
       "0           4             0          0     28.0  \n",
       "1           4             0          0     28.0  \n",
       "2           4             0          0     28.0  \n",
       "3           4             0          0     28.0  \n",
       "4           4             0          0     28.0  "
      ]
     },
     "execution_count": 155,
     "metadata": {},
     "output_type": "execute_result"
    }
   ],
   "source": [
    "y= df['cumul_cmd']\n",
    "X= df.drop('cumul_cmd', axis=1)\n",
    "X.head(5)"
   ]
  },
  {
   "cell_type": "code",
   "execution_count": 156,
   "metadata": {},
   "outputs": [
    {
     "data": {
      "text/plain": [
       "(array([1.46259843e+05, 1.41507108e+05, 2.03916605e+03, 3.89408374e+00,\n",
       "        2.69978682e+03, 5.72396100e+03, 6.27193055e+03, 6.61963342e+02,\n",
       "        3.02706040e+03, 3.60424447e+02, 2.03620340e+04, 4.17081302e+01,\n",
       "        5.77797865e+03, 1.52368836e-02, 8.31093604e+04, 8.25109587e+03,\n",
       "        1.89540071e+03]),\n",
       " array([0.00000000e+000, 0.00000000e+000, 0.00000000e+000, 1.00000000e+000,\n",
       "        0.00000000e+000, 0.00000000e+000, 0.00000000e+000, 8.37022794e-117,\n",
       "        0.00000000e+000, 1.15892152e-055, 0.00000000e+000, 2.02082747e-001,\n",
       "        0.00000000e+000, 1.00000000e+000, 0.00000000e+000, 0.00000000e+000,\n",
       "        0.00000000e+000]))"
      ]
     },
     "execution_count": 156,
     "metadata": {},
     "output_type": "execute_result"
    }
   ],
   "source": [
    "from sklearn.feature_selection import SelectKBest, chi2, f_classif\n",
    "chi2(X,y)"
   ]
  },
  {
   "cell_type": "code",
   "execution_count": 206,
   "metadata": {},
   "outputs": [],
   "source": [
    "selector = SelectKBest(f_classif, k=15)"
   ]
  },
  {
   "cell_type": "code",
   "execution_count": 207,
   "metadata": {},
   "outputs": [
    {
     "data": {
      "text/plain": [
       "array([ True,  True,  True,  True,  True,  True,  True,  True,  True,\n",
       "        True,  True, False,  True, False,  True,  True,  True])"
      ]
     },
     "execution_count": 207,
     "metadata": {},
     "output_type": "execute_result"
    }
   ],
   "source": [
    "selector.fit(X, y)\n",
    "selector.get_support()"
   ]
  },
  {
   "cell_type": "code",
   "execution_count": 208,
   "metadata": {},
   "outputs": [
    {
     "data": {
      "text/plain": [
       "Index(['first_name', 'last_name', 'potencial', 'activity', 'speciality',\n",
       "       'sector', 'locality', 'product', 'general_note', 'cumul_ech',\n",
       "       'cumul_sale', 'cumul_pres', 'cumul_visit', 'moy_satisf', 'visit_period',\n",
       "       'frequency', 'recency'],\n",
       "      dtype='object')"
      ]
     },
     "execution_count": 208,
     "metadata": {},
     "output_type": "execute_result"
    }
   ],
   "source": [
    "X.columns"
   ]
  },
  {
   "cell_type": "code",
   "execution_count": null,
   "metadata": {},
   "outputs": [],
   "source": []
  },
  {
   "cell_type": "code",
   "execution_count": null,
   "metadata": {},
   "outputs": [],
   "source": []
  }
 ],
 "metadata": {
  "kernelspec": {
   "display_name": "Python 3",
   "language": "python",
   "name": "python3"
  },
  "language_info": {
   "codemirror_mode": {
    "name": "ipython",
    "version": 3
   },
   "file_extension": ".py",
   "mimetype": "text/x-python",
   "name": "python",
   "nbconvert_exporter": "python",
   "pygments_lexer": "ipython3",
   "version": "3.8.2"
  }
 },
 "nbformat": 4,
 "nbformat_minor": 4
}
