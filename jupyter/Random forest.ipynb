{
 "cells": [
  {
   "cell_type": "code",
   "execution_count": 21,
   "metadata": {},
   "outputs": [],
   "source": [
    "import numpy as np\n",
    "import pandas as pd\n",
    "import matplotlib.pyplot as plt\n",
    "from sklearn.pipeline import make_pipeline\n",
    "from sklearn.compose import make_column_selector, make_column_transformer\n",
    "from sklearn.preprocessing import StandardScaler, OneHotEncoder\n",
    "from sklearn.ensemble import RandomForestRegressor\n",
    "from sklearn.impute import SimpleImputer\n",
    "from sklearn.preprocessing import PolynomialFeatures"
   ]
  },
  {
   "cell_type": "code",
   "execution_count": 22,
   "metadata": {},
   "outputs": [
    {
     "data": {
      "text/plain": [
       "(45892, 22)"
      ]
     },
     "execution_count": 22,
     "metadata": {},
     "output_type": "execute_result"
    }
   ],
   "source": [
    "df=pd.read_excel('FullData.xls')\n",
    "df.shape"
   ]
  },
  {
   "cell_type": "code",
   "execution_count": 77,
   "metadata": {},
   "outputs": [],
   "source": [
    "#df.isnull().sum().sort_values(ascending=False)\n",
    "#df.head(10)"
   ]
  },
  {
   "cell_type": "code",
   "execution_count": 24,
   "metadata": {},
   "outputs": [
    {
     "data": {
      "text/plain": [
       "(45884, 22)"
      ]
     },
     "execution_count": 24,
     "metadata": {},
     "output_type": "execute_result"
    }
   ],
   "source": [
    "df=df.dropna(subset=['cumul_cmd']) \n",
    "df.shape"
   ]
  },
  {
   "cell_type": "code",
   "execution_count": 25,
   "metadata": {},
   "outputs": [],
   "source": [
    "y_train= df['cumul_cmd']\n",
    "X_train= df.drop('cumul_cmd', axis=1)"
   ]
  },
  {
   "cell_type": "code",
   "execution_count": 26,
   "metadata": {},
   "outputs": [],
   "source": [
    "numerical_features=X_train.select_dtypes(include=['int64']).columns\n",
    "categorical_features=df.select_dtypes(include='object').columns"
   ]
  },
  {
   "cell_type": "code",
   "execution_count": 27,
   "metadata": {},
   "outputs": [],
   "source": [
    "numerical_pipeline = make_pipeline(SimpleImputer(strategy='mean'), StandardScaler())\n",
    "categorical_pipeline = make_pipeline(SimpleImputer(strategy='most_frequent'), OneHotEncoder())"
   ]
  },
  {
   "cell_type": "code",
   "execution_count": 28,
   "metadata": {},
   "outputs": [],
   "source": [
    "preprocessor = make_column_transformer((numerical_pipeline, numerical_features),\n",
    "                                   (categorical_pipeline, categorical_features))\n"
   ]
  },
  {
   "cell_type": "code",
   "execution_count": 29,
   "metadata": {},
   "outputs": [],
   "source": [
    "model = make_pipeline(preprocessor, RandomForestRegressor())"
   ]
  },
  {
   "cell_type": "code",
   "execution_count": 30,
   "metadata": {},
   "outputs": [
    {
     "data": {
      "text/plain": [
       "Pipeline(steps=[('columntransformer',\n",
       "                 ColumnTransformer(transformers=[('pipeline-1',\n",
       "                                                  Pipeline(steps=[('simpleimputer',\n",
       "                                                                   SimpleImputer()),\n",
       "                                                                  ('standardscaler',\n",
       "                                                                   StandardScaler())]),\n",
       "                                                  Index(['cumul_visit', 'moy_satisf', 'visit_period', 'frequency'], dtype='object')),\n",
       "                                                 ('pipeline-2',\n",
       "                                                  Pipeline(steps=[('simpleimputer',\n",
       "                                                                   SimpleImputer(strategy='most_frequent')),\n",
       "                                                                  ('onehotencoder',\n",
       "                                                                   OneHotEncoder())]),\n",
       "                                                  Index(['first_name', 'last_name', 'potencial', 'activity', 'speciality',\n",
       "       'sector', 'locality', 'product', 'general_note'],\n",
       "      dtype='object'))])),\n",
       "                ('randomforestregressor', RandomForestRegressor())])"
      ]
     },
     "execution_count": 30,
     "metadata": {},
     "output_type": "execute_result"
    }
   ],
   "source": [
    "model.fit(X_train, y_train)"
   ]
  },
  {
   "cell_type": "code",
   "execution_count": 75,
   "metadata": {},
   "outputs": [
    {
     "data": {
      "text/plain": [
       "0.9122211926901054"
      ]
     },
     "execution_count": 75,
     "metadata": {},
     "output_type": "execute_result"
    }
   ],
   "source": [
    "model.score(X_train, y_train)"
   ]
  },
  {
   "cell_type": "code",
   "execution_count": 76,
   "metadata": {},
   "outputs": [],
   "source": [
    "import pickle\n",
    "pickle.dump(model, open('RFmodel', 'wb'))"
   ]
  },
  {
   "cell_type": "code",
   "execution_count": 53,
   "metadata": {},
   "outputs": [],
   "source": [
    "x=np.array([np.datetime64('2021-12-27'),'Parapharmacie','Parapharmacie','B','P','PARAPHARMACIE','Medenine 2','MIDOUN JERBA'\n",
    "            ,'ORTHOKARE DENT',np.nan\n",
    ",0,0,0,1,4,np.datetime64('2021-12-27'),np.datetime64('2021-12-27'),np.datetime64('2021-12-27'),0,0,0]).reshape(1,21)"
   ]
  },
  {
   "cell_type": "code",
   "execution_count": 54,
   "metadata": {},
   "outputs": [
    {
     "data": {
      "text/html": [
       "<div>\n",
       "<style scoped>\n",
       "    .dataframe tbody tr th:only-of-type {\n",
       "        vertical-align: middle;\n",
       "    }\n",
       "\n",
       "    .dataframe tbody tr th {\n",
       "        vertical-align: top;\n",
       "    }\n",
       "\n",
       "    .dataframe thead th {\n",
       "        text-align: right;\n",
       "    }\n",
       "</style>\n",
       "<table border=\"1\" class=\"dataframe\">\n",
       "  <thead>\n",
       "    <tr style=\"text-align: right;\">\n",
       "      <th></th>\n",
       "      <th>visit_date</th>\n",
       "      <th>first_name</th>\n",
       "      <th>last_name</th>\n",
       "      <th>potencial</th>\n",
       "      <th>activity</th>\n",
       "      <th>speciality</th>\n",
       "      <th>sector</th>\n",
       "      <th>locality</th>\n",
       "      <th>product</th>\n",
       "      <th>general_note</th>\n",
       "      <th>...</th>\n",
       "      <th>cumul_sale</th>\n",
       "      <th>cumul_pres</th>\n",
       "      <th>cumul_visit</th>\n",
       "      <th>moy_satisf</th>\n",
       "      <th>first_visit</th>\n",
       "      <th>previous_visit</th>\n",
       "      <th>last_visit</th>\n",
       "      <th>visit_period</th>\n",
       "      <th>frequency</th>\n",
       "      <th>recency</th>\n",
       "    </tr>\n",
       "  </thead>\n",
       "  <tbody>\n",
       "    <tr>\n",
       "      <th>0</th>\n",
       "      <td>2021-12-27</td>\n",
       "      <td>Parapharmacie</td>\n",
       "      <td>Parapharmacie</td>\n",
       "      <td>B</td>\n",
       "      <td>P</td>\n",
       "      <td>PARAPHARMACIE</td>\n",
       "      <td>Medenine 2</td>\n",
       "      <td>MIDOUN JERBA</td>\n",
       "      <td>ORTHOKARE DENT</td>\n",
       "      <td>NaN</td>\n",
       "      <td>...</td>\n",
       "      <td>0</td>\n",
       "      <td>0</td>\n",
       "      <td>1</td>\n",
       "      <td>4</td>\n",
       "      <td>2021-12-27</td>\n",
       "      <td>2021-12-27</td>\n",
       "      <td>2021-12-27</td>\n",
       "      <td>0</td>\n",
       "      <td>0</td>\n",
       "      <td>0</td>\n",
       "    </tr>\n",
       "  </tbody>\n",
       "</table>\n",
       "<p>1 rows × 21 columns</p>\n",
       "</div>"
      ],
      "text/plain": [
       "  visit_date     first_name      last_name potencial activity     speciality  \\\n",
       "0 2021-12-27  Parapharmacie  Parapharmacie         B        P  PARAPHARMACIE   \n",
       "\n",
       "       sector      locality         product general_note  ... cumul_sale  \\\n",
       "0  Medenine 2  MIDOUN JERBA  ORTHOKARE DENT          NaN  ...          0   \n",
       "\n",
       "  cumul_pres cumul_visit moy_satisf first_visit previous_visit last_visit  \\\n",
       "0          0           1          4  2021-12-27     2021-12-27 2021-12-27   \n",
       "\n",
       "  visit_period frequency recency  \n",
       "0            0         0       0  \n",
       "\n",
       "[1 rows x 21 columns]"
      ]
     },
     "execution_count": 54,
     "metadata": {},
     "output_type": "execute_result"
    }
   ],
   "source": [
    "X= pd.DataFrame(x,columns=X_train.columns)"
   ]
  },
  {
   "cell_type": "code",
   "execution_count": 55,
   "metadata": {},
   "outputs": [
    {
     "data": {
      "text/plain": [
       "array([0.])"
      ]
     },
     "execution_count": 55,
     "metadata": {},
     "output_type": "execute_result"
    }
   ],
   "source": [
    "model.predict(X)"
   ]
  },
  {
   "cell_type": "code",
   "execution_count": 73,
   "metadata": {},
   "outputs": [],
   "source": [
    "def predict_cmd(model,visit_date, first_name, last_name, potencial, activity,\n",
    "       speciality, sector, locality, product, general_note,\n",
    "       cumul_ech, cumul_sale, cumul_pres, cumul_visit,\n",
    "       moy_satisf, first_visit, previous_visit, last_visit,\n",
    "       visit_period, frequency, recency ):\n",
    "    y = np.array([visit_date, first_name, last_name, potencial, activity,\n",
    "       speciality, sector, locality, product, general_note,\n",
    "       cumul_ech,  cumul_sale, cumul_pres, cumul_visit,\n",
    "       moy_satisf, first_visit, previous_visit, last_visit,\n",
    "       visit_period, frequency, recency]).reshape(1, 21)\n",
    "    Y= pd.DataFrame(y,columns=X_train.columns)\n",
    "    print(model.predict(Y))\n"
   ]
  },
  {
   "cell_type": "code",
   "execution_count": 74,
   "metadata": {},
   "outputs": [
    {
     "name": "stdout",
     "output_type": "stream",
     "text": [
      "[0.]\n"
     ]
    }
   ],
   "source": [
    "predict_cmd(model,np.datetime64('2021-12-27'),'Parapharmacie','Parapharmacie','B','P','PARAPHARMACIE','Medenine 2','MIDOUN JERBA'\n",
    "            ,'ORTHOKARE DENT',np.nan,0,0,0,1,4,np.datetime64('2021-12-27'),\n",
    "            np.datetime64('2021-12-27'),np.datetime64('2021-12-27'),0,0,0)"
   ]
  },
  {
   "cell_type": "code",
   "execution_count": null,
   "metadata": {},
   "outputs": [],
   "source": []
  },
  {
   "cell_type": "code",
   "execution_count": null,
   "metadata": {},
   "outputs": [],
   "source": []
  },
  {
   "cell_type": "code",
   "execution_count": null,
   "metadata": {},
   "outputs": [],
   "source": []
  }
 ],
 "metadata": {
  "kernelspec": {
   "display_name": "Python 3",
   "language": "python",
   "name": "python3"
  },
  "language_info": {
   "codemirror_mode": {
    "name": "ipython",
    "version": 3
   },
   "file_extension": ".py",
   "mimetype": "text/x-python",
   "name": "python",
   "nbconvert_exporter": "python",
   "pygments_lexer": "ipython3",
   "version": "3.8.2"
  }
 },
 "nbformat": 4,
 "nbformat_minor": 4
}
