{
 "cells": [
  {
   "cell_type": "code",
   "execution_count": 11,
   "metadata": {},
   "outputs": [],
   "source": [
    "import numpy as np\n",
    "import pandas as pd\n",
    "import matplotlib.pyplot as plt\n",
    "from sklearn.pipeline import make_pipeline\n",
    "from sklearn.compose import make_column_selector, make_column_transformer\n",
    "from sklearn.preprocessing import StandardScaler, OneHotEncoder\n",
    "from sklearn.model_selection import train_test_split\n",
    "from sklearn.linear_model import LinearRegression\n",
    "from sklearn.impute import SimpleImputer\n",
    "from sklearn.preprocessing import PolynomialFeatures"
   ]
  },
  {
   "cell_type": "code",
   "execution_count": 12,
   "metadata": {},
   "outputs": [
    {
     "data": {
      "text/plain": [
       "(45892, 16)"
      ]
     },
     "execution_count": 12,
     "metadata": {},
     "output_type": "execute_result"
    }
   ],
   "source": [
    "df=pd.read_excel('Ndata.xls')\n",
    "df.shape"
   ]
  },
  {
   "cell_type": "code",
   "execution_count": 13,
   "metadata": {},
   "outputs": [
    {
     "data": {
      "text/html": [
       "<div>\n",
       "<style scoped>\n",
       "    .dataframe tbody tr th:only-of-type {\n",
       "        vertical-align: middle;\n",
       "    }\n",
       "\n",
       "    .dataframe tbody tr th {\n",
       "        vertical-align: top;\n",
       "    }\n",
       "\n",
       "    .dataframe thead th {\n",
       "        text-align: right;\n",
       "    }\n",
       "</style>\n",
       "<table border=\"1\" class=\"dataframe\">\n",
       "  <thead>\n",
       "    <tr style=\"text-align: right;\">\n",
       "      <th></th>\n",
       "      <th>first_name</th>\n",
       "      <th>last_name</th>\n",
       "      <th>potencial</th>\n",
       "      <th>activity</th>\n",
       "      <th>speciality</th>\n",
       "      <th>sector</th>\n",
       "      <th>locality</th>\n",
       "      <th>product</th>\n",
       "      <th>general_note</th>\n",
       "      <th>cumul_ech</th>\n",
       "      <th>cumul_cmd</th>\n",
       "      <th>cumul_sale</th>\n",
       "      <th>cumul_visit</th>\n",
       "      <th>visit_period</th>\n",
       "      <th>frequency</th>\n",
       "      <th>recency</th>\n",
       "    </tr>\n",
       "  </thead>\n",
       "  <tbody>\n",
       "    <tr>\n",
       "      <th>0</th>\n",
       "      <td>Parapharmacie</td>\n",
       "      <td>Parapharmacie</td>\n",
       "      <td>B</td>\n",
       "      <td>P</td>\n",
       "      <td>PARAPHARMACIE</td>\n",
       "      <td>Medenine 2</td>\n",
       "      <td>MIDOUN JERBA</td>\n",
       "      <td>HALITOL SPRAY</td>\n",
       "      <td>NaN</td>\n",
       "      <td>0.0</td>\n",
       "      <td>0.0</td>\n",
       "      <td>0.0</td>\n",
       "      <td>1</td>\n",
       "      <td>0</td>\n",
       "      <td>0</td>\n",
       "      <td>NaN</td>\n",
       "    </tr>\n",
       "    <tr>\n",
       "      <th>1</th>\n",
       "      <td>Parapharmacie</td>\n",
       "      <td>Parapharmacie</td>\n",
       "      <td>B</td>\n",
       "      <td>P</td>\n",
       "      <td>PARAPHARMACIE</td>\n",
       "      <td>Medenine 2</td>\n",
       "      <td>MIDOUN JERBA</td>\n",
       "      <td>APHATAKALM GEL</td>\n",
       "      <td>NaN</td>\n",
       "      <td>0.0</td>\n",
       "      <td>0.0</td>\n",
       "      <td>0.0</td>\n",
       "      <td>1</td>\n",
       "      <td>0</td>\n",
       "      <td>0</td>\n",
       "      <td>NaN</td>\n",
       "    </tr>\n",
       "    <tr>\n",
       "      <th>2</th>\n",
       "      <td>Parapharmacie</td>\n",
       "      <td>Parapharmacie</td>\n",
       "      <td>B</td>\n",
       "      <td>P</td>\n",
       "      <td>PARAPHARMACIE</td>\n",
       "      <td>Medenine 2</td>\n",
       "      <td>MIDOUN JERBA</td>\n",
       "      <td>ORTHOKARE DENT</td>\n",
       "      <td>NaN</td>\n",
       "      <td>0.0</td>\n",
       "      <td>0.0</td>\n",
       "      <td>0.0</td>\n",
       "      <td>1</td>\n",
       "      <td>0</td>\n",
       "      <td>0</td>\n",
       "      <td>NaN</td>\n",
       "    </tr>\n",
       "    <tr>\n",
       "      <th>3</th>\n",
       "      <td>Parapharmacie</td>\n",
       "      <td>Parapharmacie</td>\n",
       "      <td>B</td>\n",
       "      <td>P</td>\n",
       "      <td>PARAPHARMACIE</td>\n",
       "      <td>Medenine 2</td>\n",
       "      <td>MIDOUN JERBA</td>\n",
       "      <td>APHTAKALM 250</td>\n",
       "      <td>NaN</td>\n",
       "      <td>0.0</td>\n",
       "      <td>0.0</td>\n",
       "      <td>0.0</td>\n",
       "      <td>1</td>\n",
       "      <td>0</td>\n",
       "      <td>0</td>\n",
       "      <td>NaN</td>\n",
       "    </tr>\n",
       "    <tr>\n",
       "      <th>4</th>\n",
       "      <td>Parapharmacie</td>\n",
       "      <td>Parapharmacie</td>\n",
       "      <td>B</td>\n",
       "      <td>P</td>\n",
       "      <td>PARAPHARMACIE</td>\n",
       "      <td>Medenine 2</td>\n",
       "      <td>MIDOUN JERBA</td>\n",
       "      <td>HALITOL DENT</td>\n",
       "      <td>NaN</td>\n",
       "      <td>0.0</td>\n",
       "      <td>0.0</td>\n",
       "      <td>0.0</td>\n",
       "      <td>1</td>\n",
       "      <td>0</td>\n",
       "      <td>0</td>\n",
       "      <td>NaN</td>\n",
       "    </tr>\n",
       "    <tr>\n",
       "      <th>5</th>\n",
       "      <td>Parapharmacie</td>\n",
       "      <td>Parapharmacie</td>\n",
       "      <td>B</td>\n",
       "      <td>P</td>\n",
       "      <td>PARAPHARMACIE</td>\n",
       "      <td>Medenine 2</td>\n",
       "      <td>MIDOUN JERBA</td>\n",
       "      <td>ORTHOKARE BB 250</td>\n",
       "      <td>NaN</td>\n",
       "      <td>0.0</td>\n",
       "      <td>0.0</td>\n",
       "      <td>0.0</td>\n",
       "      <td>1</td>\n",
       "      <td>0</td>\n",
       "      <td>0</td>\n",
       "      <td>NaN</td>\n",
       "    </tr>\n",
       "    <tr>\n",
       "      <th>6</th>\n",
       "      <td>Abbes</td>\n",
       "      <td>Lotfi</td>\n",
       "      <td>A</td>\n",
       "      <td>P</td>\n",
       "      <td>PHARMACIE</td>\n",
       "      <td>Kebili</td>\n",
       "      <td>KEBILI</td>\n",
       "      <td>KLOREX BB 250</td>\n",
       "      <td>NaN</td>\n",
       "      <td>0.0</td>\n",
       "      <td>0.0</td>\n",
       "      <td>0.0</td>\n",
       "      <td>1</td>\n",
       "      <td>0</td>\n",
       "      <td>0</td>\n",
       "      <td>NaN</td>\n",
       "    </tr>\n",
       "    <tr>\n",
       "      <th>7</th>\n",
       "      <td>Abbes</td>\n",
       "      <td>Lotfi</td>\n",
       "      <td>A</td>\n",
       "      <td>P</td>\n",
       "      <td>PHARMACIE</td>\n",
       "      <td>Kebili</td>\n",
       "      <td>KEBILI</td>\n",
       "      <td>SENSIKALM DENT</td>\n",
       "      <td>NaN</td>\n",
       "      <td>0.0</td>\n",
       "      <td>0.0</td>\n",
       "      <td>0.0</td>\n",
       "      <td>1</td>\n",
       "      <td>0</td>\n",
       "      <td>0</td>\n",
       "      <td>NaN</td>\n",
       "    </tr>\n",
       "    <tr>\n",
       "      <th>8</th>\n",
       "      <td>Abbes</td>\n",
       "      <td>Lotfi</td>\n",
       "      <td>A</td>\n",
       "      <td>P</td>\n",
       "      <td>PHARMACIE</td>\n",
       "      <td>Kebili</td>\n",
       "      <td>KEBILI</td>\n",
       "      <td>PAROSEPT BB 250</td>\n",
       "      <td>NaN</td>\n",
       "      <td>0.0</td>\n",
       "      <td>0.0</td>\n",
       "      <td>0.0</td>\n",
       "      <td>1</td>\n",
       "      <td>0</td>\n",
       "      <td>0</td>\n",
       "      <td>NaN</td>\n",
       "    </tr>\n",
       "    <tr>\n",
       "      <th>9</th>\n",
       "      <td>Abbes</td>\n",
       "      <td>Lotfi</td>\n",
       "      <td>A</td>\n",
       "      <td>P</td>\n",
       "      <td>PHARMACIE</td>\n",
       "      <td>Kebili</td>\n",
       "      <td>KEBILI</td>\n",
       "      <td>GINGISEPT DENT</td>\n",
       "      <td>NaN</td>\n",
       "      <td>0.0</td>\n",
       "      <td>0.0</td>\n",
       "      <td>0.0</td>\n",
       "      <td>1</td>\n",
       "      <td>0</td>\n",
       "      <td>0</td>\n",
       "      <td>NaN</td>\n",
       "    </tr>\n",
       "  </tbody>\n",
       "</table>\n",
       "</div>"
      ],
      "text/plain": [
       "      first_name      last_name potencial activity     speciality      sector  \\\n",
       "0  Parapharmacie  Parapharmacie         B        P  PARAPHARMACIE  Medenine 2   \n",
       "1  Parapharmacie  Parapharmacie         B        P  PARAPHARMACIE  Medenine 2   \n",
       "2  Parapharmacie  Parapharmacie         B        P  PARAPHARMACIE  Medenine 2   \n",
       "3  Parapharmacie  Parapharmacie         B        P  PARAPHARMACIE  Medenine 2   \n",
       "4  Parapharmacie  Parapharmacie         B        P  PARAPHARMACIE  Medenine 2   \n",
       "5  Parapharmacie  Parapharmacie         B        P  PARAPHARMACIE  Medenine 2   \n",
       "6          Abbes          Lotfi         A        P      PHARMACIE      Kebili   \n",
       "7          Abbes          Lotfi         A        P      PHARMACIE      Kebili   \n",
       "8          Abbes          Lotfi         A        P      PHARMACIE      Kebili   \n",
       "9          Abbes          Lotfi         A        P      PHARMACIE      Kebili   \n",
       "\n",
       "       locality           product general_note  cumul_ech  cumul_cmd  \\\n",
       "0  MIDOUN JERBA     HALITOL SPRAY          NaN        0.0        0.0   \n",
       "1  MIDOUN JERBA    APHATAKALM GEL          NaN        0.0        0.0   \n",
       "2  MIDOUN JERBA    ORTHOKARE DENT          NaN        0.0        0.0   \n",
       "3  MIDOUN JERBA     APHTAKALM 250          NaN        0.0        0.0   \n",
       "4  MIDOUN JERBA      HALITOL DENT          NaN        0.0        0.0   \n",
       "5  MIDOUN JERBA  ORTHOKARE BB 250          NaN        0.0        0.0   \n",
       "6        KEBILI     KLOREX BB 250          NaN        0.0        0.0   \n",
       "7        KEBILI    SENSIKALM DENT          NaN        0.0        0.0   \n",
       "8        KEBILI   PAROSEPT BB 250          NaN        0.0        0.0   \n",
       "9        KEBILI    GINGISEPT DENT          NaN        0.0        0.0   \n",
       "\n",
       "   cumul_sale  cumul_visit  visit_period  frequency  recency  \n",
       "0         0.0            1             0          0      NaN  \n",
       "1         0.0            1             0          0      NaN  \n",
       "2         0.0            1             0          0      NaN  \n",
       "3         0.0            1             0          0      NaN  \n",
       "4         0.0            1             0          0      NaN  \n",
       "5         0.0            1             0          0      NaN  \n",
       "6         0.0            1             0          0      NaN  \n",
       "7         0.0            1             0          0      NaN  \n",
       "8         0.0            1             0          0      NaN  \n",
       "9         0.0            1             0          0      NaN  "
      ]
     },
     "execution_count": 13,
     "metadata": {},
     "output_type": "execute_result"
    }
   ],
   "source": [
    "df.isnull().sum().sort_values(ascending=False)\n",
    "df.head(10)"
   ]
  },
  {
   "cell_type": "code",
   "execution_count": 14,
   "metadata": {},
   "outputs": [
    {
     "data": {
      "text/plain": [
       "(45884, 16)"
      ]
     },
     "execution_count": 14,
     "metadata": {},
     "output_type": "execute_result"
    }
   ],
   "source": [
    "df=df.dropna(subset=['cumul_cmd'])\n",
    "df.shape"
   ]
  },
  {
   "cell_type": "code",
   "execution_count": 15,
   "metadata": {},
   "outputs": [],
   "source": [
    "y_train= df['cumul_cmd']\n",
    "X_train= df.drop('cumul_cmd', axis=1)"
   ]
  },
  {
   "cell_type": "code",
   "execution_count": 16,
   "metadata": {},
   "outputs": [],
   "source": [
    "numerical_features=X_train.select_dtypes(include=['int64','float64']).columns\n",
    "categorical_features=df.select_dtypes(include='object').columns"
   ]
  },
  {
   "cell_type": "code",
   "execution_count": 17,
   "metadata": {},
   "outputs": [],
   "source": [
    "numerical_pipeline = make_pipeline(SimpleImputer(strategy='mean'), StandardScaler())\n",
    "categorical_pipeline = make_pipeline(SimpleImputer(strategy='most_frequent'), OneHotEncoder())"
   ]
  },
  {
   "cell_type": "code",
   "execution_count": 18,
   "metadata": {},
   "outputs": [],
   "source": [
    "preprocessor = make_column_transformer((numerical_pipeline, numerical_features),\n",
    "                                   (categorical_pipeline, categorical_features))\n"
   ]
  },
  {
   "cell_type": "code",
   "execution_count": 19,
   "metadata": {},
   "outputs": [],
   "source": [
    "model = make_pipeline(preprocessor,PolynomialFeatures(degree=2),LinearRegression())"
   ]
  },
  {
   "cell_type": "code",
   "execution_count": 20,
   "metadata": {},
   "outputs": [
    {
     "data": {
      "text/plain": [
       "Pipeline(steps=[('columntransformer',\n",
       "                 ColumnTransformer(transformers=[('pipeline-1',\n",
       "                                                  Pipeline(steps=[('simpleimputer',\n",
       "                                                                   SimpleImputer()),\n",
       "                                                                  ('standardscaler',\n",
       "                                                                   StandardScaler())]),\n",
       "                                                  Index(['cumul_ech', 'cumul_sale', 'cumul_visit', 'visit_period', 'frequency',\n",
       "       'recency'],\n",
       "      dtype='object')),\n",
       "                                                 ('pipeline-2',\n",
       "                                                  Pipeline(steps=[('simpleimputer',\n",
       "                                                                   SimpleImputer(strategy='most_frequent')),\n",
       "                                                                  ('onehotencoder',\n",
       "                                                                   OneHotEncoder())]),\n",
       "                                                  Index(['first_name', 'last_name', 'potencial', 'activity', 'speciality',\n",
       "       'sector', 'locality', 'product', 'general_note'],\n",
       "      dtype='object'))])),\n",
       "                ('polynomialfeatures', PolynomialFeatures()),\n",
       "                ('linearregression', LinearRegression())])"
      ]
     },
     "execution_count": 20,
     "metadata": {},
     "output_type": "execute_result"
    }
   ],
   "source": [
    "model.fit(X_train, y_train)"
   ]
  },
  {
   "cell_type": "code",
   "execution_count": 21,
   "metadata": {},
   "outputs": [
    {
     "data": {
      "text/plain": [
       "0.9981110539426127"
      ]
     },
     "execution_count": 21,
     "metadata": {},
     "output_type": "execute_result"
    }
   ],
   "source": [
    "model.score(X_train, y_train)"
   ]
  },
  {
   "cell_type": "code",
   "execution_count": 25,
   "metadata": {},
   "outputs": [
    {
     "data": {
      "text/plain": [
       "Index(['first_name', 'last_name', 'potencial', 'activity', 'speciality',\n",
       "       'sector', 'locality', 'product', 'general_note', 'cumul_ech',\n",
       "       'cumul_cmd', 'cumul_sale', 'cumul_visit', 'visit_period', 'frequency',\n",
       "       'recency'],\n",
       "      dtype='object')"
      ]
     },
     "execution_count": 25,
     "metadata": {},
     "output_type": "execute_result"
    }
   ],
   "source": [
    "df.columns"
   ]
  },
  {
   "cell_type": "code",
   "execution_count": 89,
   "metadata": {},
   "outputs": [],
   "source": [
    "import pickle\n",
    "pickle.dump(model, open('RLmodel', 'wb'))"
   ]
  },
  {
   "cell_type": "code",
   "execution_count": 26,
   "metadata": {},
   "outputs": [],
   "source": [
    "def predict_cmd(model, first_name, last_name, potencial, activity,\n",
    "       speciality, sector, locality, product, general_note,\n",
    "       cumul_ech, cumul_sale, cumul_visit,\n",
    "       visit_period, frequency, recency ):\n",
    "    y = np.array([first_name, last_name, potencial, activity,\n",
    "       speciality, sector, locality, product, general_note,\n",
    "       cumul_ech, cumul_sale, cumul_visit,\n",
    "       visit_period, frequency, recency ]).reshape(1, 15)\n",
    "    Y= pd.DataFrame(y,columns=X_train.columns)\n",
    "    print(model.predict(Y))"
   ]
  },
  {
   "cell_type": "code",
   "execution_count": null,
   "metadata": {},
   "outputs": [],
   "source": [
    "predict_cmd(model,'Parapharmacie','Parapharmacie','B','P','PARAPHARMACIE','Medenine 2','MIDOUN JERBA'\n",
    "            ,'ORTHOKARE DENT','Prescripteur',1,0,1,0,0,0)"
   ]
  },
  {
   "cell_type": "code",
   "execution_count": null,
   "metadata": {},
   "outputs": [],
   "source": []
  }
 ],
 "metadata": {
  "kernelspec": {
   "display_name": "Python 3",
   "language": "python",
   "name": "python3"
  },
  "language_info": {
   "codemirror_mode": {
    "name": "ipython",
    "version": 3
   },
   "file_extension": ".py",
   "mimetype": "text/x-python",
   "name": "python",
   "nbconvert_exporter": "python",
   "pygments_lexer": "ipython3",
   "version": "3.8.2"
  }
 },
 "nbformat": 4,
 "nbformat_minor": 4
}
